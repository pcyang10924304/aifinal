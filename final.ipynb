{
  "nbformat": 4,
  "nbformat_minor": 0,
  "metadata": {
    "colab": {
      "provenance": []
    },
    "kernelspec": {
      "name": "python3",
      "display_name": "Python 3"
    },
    "language_info": {
      "name": "python"
    }
  },
  "cells": [
    {
      "cell_type": "code",
      "execution_count": 1,
      "metadata": {
        "colab": {
          "base_uri": "https://localhost:8080/"
        },
        "id": "-bkpzI-fIsMO",
        "outputId": "357047f1-8b4f-465a-b67b-da84ce1edb4d"
      },
      "outputs": [
        {
          "output_type": "stream",
          "name": "stdout",
          "text": [
            "Looking in indexes: https://pypi.org/simple, https://us-python.pkg.dev/colab-wheels/public/simple/\n",
            "Requirement already satisfied: moviepy in /usr/local/lib/python3.10/dist-packages (1.0.3)\n",
            "Requirement already satisfied: decorator<5.0,>=4.0.2 in /usr/local/lib/python3.10/dist-packages (from moviepy) (4.4.2)\n",
            "Requirement already satisfied: tqdm<5.0,>=4.11.2 in /usr/local/lib/python3.10/dist-packages (from moviepy) (4.65.0)\n",
            "Requirement already satisfied: requests<3.0,>=2.8.1 in /usr/local/lib/python3.10/dist-packages (from moviepy) (2.27.1)\n",
            "Requirement already satisfied: proglog<=1.0.0 in /usr/local/lib/python3.10/dist-packages (from moviepy) (0.1.10)\n",
            "Requirement already satisfied: numpy>=1.17.3 in /usr/local/lib/python3.10/dist-packages (from moviepy) (1.22.4)\n",
            "Requirement already satisfied: imageio<3.0,>=2.5 in /usr/local/lib/python3.10/dist-packages (from moviepy) (2.25.1)\n",
            "Requirement already satisfied: imageio-ffmpeg>=0.2.0 in /usr/local/lib/python3.10/dist-packages (from moviepy) (0.4.8)\n",
            "Requirement already satisfied: pillow>=8.3.2 in /usr/local/lib/python3.10/dist-packages (from imageio<3.0,>=2.5->moviepy) (8.4.0)\n",
            "Requirement already satisfied: urllib3<1.27,>=1.21.1 in /usr/local/lib/python3.10/dist-packages (from requests<3.0,>=2.8.1->moviepy) (1.26.15)\n",
            "Requirement already satisfied: certifi>=2017.4.17 in /usr/local/lib/python3.10/dist-packages (from requests<3.0,>=2.8.1->moviepy) (2022.12.7)\n",
            "Requirement already satisfied: charset-normalizer~=2.0.0 in /usr/local/lib/python3.10/dist-packages (from requests<3.0,>=2.8.1->moviepy) (2.0.12)\n",
            "Requirement already satisfied: idna<4,>=2.5 in /usr/local/lib/python3.10/dist-packages (from requests<3.0,>=2.8.1->moviepy) (3.4)\n"
          ]
        }
      ],
      "source": [
        "!pip install moviepy"
      ]
    },
    {
      "cell_type": "code",
      "source": [
        "!pip install Pillow"
      ],
      "metadata": {
        "colab": {
          "base_uri": "https://localhost:8080/"
        },
        "id": "3cezOiWlIvXE",
        "outputId": "b3483153-5c69-48af-de7d-1ceed00eff50"
      },
      "execution_count": 2,
      "outputs": [
        {
          "output_type": "stream",
          "name": "stdout",
          "text": [
            "Looking in indexes: https://pypi.org/simple, https://us-python.pkg.dev/colab-wheels/public/simple/\n",
            "Requirement already satisfied: Pillow in /usr/local/lib/python3.10/dist-packages (8.4.0)\n"
          ]
        }
      ]
    },
    {
      "cell_type": "code",
      "source": [
        "!pip install ffmpeg"
      ],
      "metadata": {
        "colab": {
          "base_uri": "https://localhost:8080/"
        },
        "id": "AyrBVNFnIzXo",
        "outputId": "f55c3af4-fadc-4ce8-d76f-5d31ad3a4fac"
      },
      "execution_count": 3,
      "outputs": [
        {
          "output_type": "stream",
          "name": "stdout",
          "text": [
            "Looking in indexes: https://pypi.org/simple, https://us-python.pkg.dev/colab-wheels/public/simple/\n",
            "Collecting ffmpeg\n",
            "  Downloading ffmpeg-1.4.tar.gz (5.1 kB)\n",
            "  Preparing metadata (setup.py) ... \u001b[?25l\u001b[?25hdone\n",
            "Building wheels for collected packages: ffmpeg\n",
            "  Building wheel for ffmpeg (setup.py) ... \u001b[?25l\u001b[?25hdone\n",
            "  Created wheel for ffmpeg: filename=ffmpeg-1.4-py3-none-any.whl size=6083 sha256=e1c9182ecd933cd6226a9e5636d53ff411d12e80a9fe051913045e7cf1d4ee37\n",
            "  Stored in directory: /root/.cache/pip/wheels/8e/7a/69/cd6aeb83b126a7f04cbe7c9d929028dc52a6e7d525ff56003a\n",
            "Successfully built ffmpeg\n",
            "Installing collected packages: ffmpeg\n",
            "Successfully installed ffmpeg-1.4\n"
          ]
        }
      ]
    },
    {
      "cell_type": "code",
      "source": [
        "from PIL import ImageFont"
      ],
      "metadata": {
        "id": "hb9ys9nyI3N8"
      },
      "execution_count": 4,
      "outputs": []
    },
    {
      "cell_type": "code",
      "source": [
        "!wget -O TaipeiSansTCBeta-Regular.ttf https://drive.google.com/uc?id=1eGAsTN1HBpJAkeVM57_C7ccp7hbgSz3_&export=download"
      ],
      "metadata": {
        "colab": {
          "base_uri": "https://localhost:8080/"
        },
        "id": "uJwT4paUI7Dw",
        "outputId": "1edd38a9-b233-47b5-8819-e743a87c1f3d"
      },
      "execution_count": 9,
      "outputs": [
        {
          "output_type": "stream",
          "name": "stdout",
          "text": [
            "--2023-06-19 08:32:07--  https://drive.google.com/uc?id=1eGAsTN1HBpJAkeVM57_C7ccp7hbgSz3_\n",
            "Resolving drive.google.com (drive.google.com)... 64.233.183.100, 64.233.183.113, 64.233.183.102, ...\n",
            "Connecting to drive.google.com (drive.google.com)|64.233.183.100|:443... connected.\n",
            "HTTP request sent, awaiting response... 303 See Other\n",
            "Location: https://doc-0k-9o-docs.googleusercontent.com/docs/securesc/ha0ro937gcuc7l7deffksulhg5h7mbp1/vklcgd421re4qvtei0jli5m70a9ckrj7/1687163475000/02847987870453524430/*/1eGAsTN1HBpJAkeVM57_C7ccp7hbgSz3_?uuid=66458c41-889e-4885-aad0-2be885884a7a [following]\n",
            "Warning: wildcards not supported in HTTP.\n",
            "--2023-06-19 08:32:08--  https://doc-0k-9o-docs.googleusercontent.com/docs/securesc/ha0ro937gcuc7l7deffksulhg5h7mbp1/vklcgd421re4qvtei0jli5m70a9ckrj7/1687163475000/02847987870453524430/*/1eGAsTN1HBpJAkeVM57_C7ccp7hbgSz3_?uuid=66458c41-889e-4885-aad0-2be885884a7a\n",
            "Resolving doc-0k-9o-docs.googleusercontent.com (doc-0k-9o-docs.googleusercontent.com)... 142.251.161.132, 2607:f8b0:4001:c5c::84\n",
            "Connecting to doc-0k-9o-docs.googleusercontent.com (doc-0k-9o-docs.googleusercontent.com)|142.251.161.132|:443... connected.\n",
            "HTTP request sent, awaiting response... 200 OK\n",
            "Length: 20659344 (20M) [application/x-font-ttf]\n",
            "Saving to: ‘TaipeiSansTCBeta-Regular.ttf’\n",
            "\n",
            "TaipeiSansTCBeta-Re 100%[===================>]  19.70M  41.1MB/s    in 0.5s    \n",
            "\n",
            "2023-06-19 08:32:08 (41.1 MB/s) - ‘TaipeiSansTCBeta-Regular.ttf’ saved [20659344/20659344]\n",
            "\n"
          ]
        }
      ]
    },
    {
      "cell_type": "code",
      "source": [
        "import os\n",
        "from moviepy.editor import *\n",
        "from PIL import Image, ImageFont, ImageDraw\n",
        "\n",
        "def time2sec(t):\n",
        "    arr = t.split(' --> ')\n",
        "    s1 = arr[0].split(':')  # 使用 \":\" 分割時間\n",
        "    s2 = arr[1].split(':')  # 使用 \":\" 分割時間\n",
        "    start = int(s1[0])*3600 + int(s1[1])*60 + int(s1[2].split(',')[0]) + float(s1[2].split(',')[1])*0.001\n",
        "    end = int(s2[0])*3600 + int(s2[1])*60 + int(s2[2].split(',')[0]) + float(s2[2].split(',')[1])*0.001\n",
        "    return [start, end]\n",
        "\n",
        "\n",
        "f = open('蔡依林 Jolin Tsai - 倒帶.srt','r')\n",
        "srt = f.read()\n",
        "f.close()\n",
        "srt_list = srt.split('\\n')\n",
        "\n",
        "sec_list = []\n",
        "text_list = []\n",
        "\n",
        "# 處理字幕列表\n",
        "for i in range(len(srt_list)):\n",
        "    if i % 4 == 1:  # 開始時間行\n",
        "        sec_list.append(time2sec(srt_list[i]))\n",
        "    elif i % 4 == 2:  # 文字行\n",
        "        text_list.append(srt_list[i])\n",
        "\n",
        "img_empty = Image.new('RGBA', (480, 240))\n",
        "font = ImageFont.truetype('TaipeiSansTCBeta-Regular.ttf', size=20)\n",
        "video = VideoFileClip(\"蔡依林 Jolin Tsai - 倒帶.mp4\").resize((480,240))\n",
        "output_list = []\n",
        "\n",
        "def text_clip(text, name):\n",
        "    img = img_empty.copy()\n",
        "    draw = ImageDraw.Draw(img)\n",
        "    text_width = 21 * len(text)\n",
        "    draw.text(((480-text_width)/2, 10), text, fill=(255, 255, 255), font=font, stroke_width=2, stroke_fill='black')\n",
        "    img.save(name)\n",
        "\n",
        "def text_in_video(t, text_img):\n",
        "    clip = video.subclip(t[0], t[1])\n",
        "    text = ImageClip(text_img, transparent=True).set_duration(t[1] - t[0])\n",
        "    combine_clip = CompositeVideoClip([clip, text])\n",
        "    output_list.append(combine_clip)\n",
        "\n",
        "# 生成文字片段\n",
        "for i in range(len(text_list)):\n",
        "    text_clip(text_list[i], 'srt.png')\n",
        "    text_in_video(sec_list[i], 'srt.png')\n",
        "\n",
        "output = concatenate_videoclips(output_list)\n",
        "output.write_videofile(\"/content/drive/MyDrive/AI期中報告/output.mp4\", codec=\"libx264\", audio_codec=\"aac\")"
      ],
      "metadata": {
        "colab": {
          "base_uri": "https://localhost:8080/"
        },
        "id": "AtOCkwroQf9f",
        "outputId": "65ffe6a4-a95b-4dd4-a5e4-f3e7c77d490f"
      },
      "execution_count": 10,
      "outputs": [
        {
          "output_type": "stream",
          "name": "stdout",
          "text": [
            "Moviepy - Building video /content/drive/MyDrive/AI期中報告/output.mp4.\n",
            "MoviePy - Writing audio in outputTEMP_MPY_wvf_snd.mp4\n"
          ]
        },
        {
          "output_type": "stream",
          "name": "stderr",
          "text": []
        },
        {
          "output_type": "stream",
          "name": "stdout",
          "text": [
            "MoviePy - Done.\n",
            "Moviepy - Writing video /content/drive/MyDrive/AI期中報告/output.mp4\n",
            "\n"
          ]
        },
        {
          "output_type": "stream",
          "name": "stderr",
          "text": []
        },
        {
          "output_type": "stream",
          "name": "stdout",
          "text": [
            "Moviepy - Done !\n",
            "Moviepy - video ready /content/drive/MyDrive/AI期中報告/output.mp4\n"
          ]
        }
      ]
    },
    {
      "cell_type": "code",
      "source": [
        "from google.colab import drive\n",
        "drive.mount('/content/drive')"
      ],
      "metadata": {
        "colab": {
          "base_uri": "https://localhost:8080/"
        },
        "id": "3A-xuyULJacD",
        "outputId": "2e020239-067a-4edb-f260-2386e453caa6"
      },
      "execution_count": null,
      "outputs": [
        {
          "output_type": "stream",
          "name": "stdout",
          "text": [
            "Mounted at /content/drive\n"
          ]
        }
      ]
    }
  ]
}